{
  "nbformat": 4,
  "nbformat_minor": 0,
  "metadata": {
    "colab": {
      "name": "Exp1.ipynb",
      "provenance": [],
      "authorship_tag": "ABX9TyOfUQC71EIq9O7+/CmtYWsl",
      "include_colab_link": true
    },
    "kernelspec": {
      "name": "python3",
      "display_name": "Python 3"
    }
  },
  "cells": [
    {
      "cell_type": "markdown",
      "metadata": {
        "id": "view-in-github",
        "colab_type": "text"
      },
      "source": [
        "<a href=\"https://colab.research.google.com/github/iamuc/SP-Lab/blob/master/Exp1.ipynb\" target=\"_parent\"><img src=\"https://colab.research.google.com/assets/colab-badge.svg\" alt=\"Open In Colab\"/></a>"
      ]
    },
    {
      "cell_type": "markdown",
      "metadata": {
        "id": "Lz8Vw8EAmUYL",
        "colab_type": "text"
      },
      "source": [
        "Author:\n",
        "*   Udit Chauhan\n",
        "*   2k18/MC/118"
      ]
    },
    {
      "cell_type": "markdown",
      "metadata": {
        "id": "1NtTFbBth6BU",
        "colab_type": "text"
      },
      "source": [
        "# **Title:**\n",
        "Verification of mean and variance of random variable X Probability of which is represented with Binomial Distibution Function."
      ]
    },
    {
      "cell_type": "markdown",
      "metadata": {
        "id": "4IpuIcidiIuQ",
        "colab_type": "text"
      },
      "source": [
        "# **Theoretical Background:**\n",
        "The binomial distribution function specifies the number of times (x) that an event occurs in n independent trials where p is the probability of the event occurring in a single trial. It is an exact probability distribution for any number of discrete trials. If n is very large, it may be treated as a continuous function.\n",
        "\n",
        "\n",
        "![Binomial.PNG](data:image/png;base64,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)"
      ]
    },
    {
      "cell_type": "code",
      "metadata": {
        "id": "fKc8Nf5Zh2wl",
        "colab_type": "code",
        "colab": {}
      },
      "source": [
        "import numpy as np\n",
        "import matplotlib .pyplot as plt"
      ],
      "execution_count": null,
      "outputs": []
    },
    {
      "cell_type": "code",
      "metadata": {
        "id": "twyleAQejjVA",
        "colab_type": "code",
        "colab": {
          "base_uri": "https://localhost:8080/",
          "height": 265
        },
        "outputId": "28ebae7e-2e90-4ef0-b208-d015d3cb09b3"
      },
      "source": [
        "# picks out 10^5 samples from a binomial distribution with n=100 & p=0.4 & q=0.6\n",
        "binomial_dist= np.random.binomial(100,.4,10**5) \n",
        "plt.hist(binomial_dist, bins = 100)\n",
        "plt.savefig('Sample size {}'.format(10**5))\n",
        "plt.show()\n",
        "binomial_dist = np.random.binomial(100,.4,10**5)"
      ],
      "execution_count": null,
      "outputs": [
        {
          "output_type": "display_data",
          "data": {
            "image/png": "[encoded data removed]",
            "text/plain": [
              "<Figure size 432x288 with 1 Axes>"
            ]
          },
          "metadata": {
            "tags": [],
            "needs_background": "light"
          }
        }
      ]
    },
    {
      "cell_type": "markdown",
      "metadata": {
        "id": "9n3XtMKdkHmx",
        "colab_type": "text"
      },
      "source": [
        "# **Results:**"
      ]
    },
    {
      "cell_type": "code",
      "metadata": {
        "id": "8ppmOBG1jxtf",
        "colab_type": "code",
        "colab": {
          "base_uri": "https://localhost:8080/",
          "height": 51
        },
        "outputId": "800b9416-7ed6-4e6a-a49c-05a7ad675f63"
      },
      "source": [
        "print('The theoretical average is: {}, the experimentally calculated average is: {}'.format(40,np.average(binomial_dist)))\n",
        "\n",
        "print('The theoretical deviation is: {}, the experimentally calculated deviation is: {}'.format((100*.4*.6)**.5,np.std(binomial_dist)))"
      ],
      "execution_count": null,
      "outputs": [
        {
          "output_type": "stream",
          "text": [
            "The theoretical average is: 40, the experimentally calculated average is: 40.02444\n",
            "The theoretical deviation is: 4.898979485566356, the experimentally calculated deviation is: 4.887459737573292\n"
          ],
          "name": "stdout"
        }
      ]
    },
    {
      "cell_type": "markdown",
      "metadata": {
        "id": "eTfwV4U_lTRJ",
        "colab_type": "text"
      },
      "source": [
        "# **Discussion:**\n",
        "Theoretical & Experimentally calculated values for Average & Deviation are very close, There is no observable difference among them if more samples are taken.\n"
      ]
    }
  ]
}