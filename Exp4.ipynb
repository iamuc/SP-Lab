{
  "nbformat": 4,
  "nbformat_minor": 0,
  "metadata": {
    "colab": {
      "name": "Exp4.ipynb",
      "provenance": [],
      "collapsed_sections": [],
      "authorship_tag": "ABX9TyPJlU88rn6e2ZPmU6VH4y+Y"
    },
    "kernelspec": {
      "name": "python3",
      "display_name": "Python 3"
    }
  },
  "cells": [
    {
      "cell_type": "markdown",
      "metadata": {
        "id": "Lz8Vw8EAmUYL",
        "colab_type": "text"
      },
      "source": [
        "Author:\n",
        "*   Udit Chauhan\n",
        "*   2k18/MC/118"
      ]
    },
    {
      "cell_type": "markdown",
      "metadata": {
        "id": "1NtTFbBth6BU",
        "colab_type": "text"
      },
      "source": [
        "# **Title:**\n",
        "Demonstrate the unrestricted random walk and analyse the probability of being at a given state after n steps."
      ]
    },
    {
      "cell_type": "markdown",
      "metadata": {
        "id": "4IpuIcidiIuQ",
        "colab_type": "text"
      },
      "source": [
        "# **Theoretical Background:**\n",
        "Random walk is a mathematical object, known as a stochastic or random process, that describes a path that consists of a succession of random steps on some mathematical space such as the integers. <br>\n",
        "An elementary example of a random walk is the random walk on the integer number line Z , which starts at 0 and at each step moves +1 or −1 with equal probability. Other examples include the path traced by a molecule as it travels in a liquid or a gas (see Brownian motion), the search path of a foraging animal, the price of a fluctuating stock and the financial status of a gambler: all can be approximated by random walk models, even though they may not be truly random in reality. <br>\n",
        "One-dimensional random walk\n",
        "An elementary example of a random walk is the random walk on the integer number line Z, which starts at 0 and at each step moves +1 or −1 with equal probability.\n",
        "![CF9FE4AA-1936-46AC-9EFF-FCE2335285C7.jpeg](data:image/jpeg;base64,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)\n"
      ]
    },
    {
      "cell_type": "code",
      "metadata": {
        "id": "fKc8Nf5Zh2wl",
        "colab_type": "code",
        "colab": {}
      },
      "source": [
        "import numpy as np\n",
        "import matplotlib .pyplot as plt"
      ],
      "execution_count": 1,
      "outputs": []
    },
    {
      "cell_type": "code",
      "metadata": {
        "id": "twyleAQejjVA",
        "colab_type": "code",
        "colab": {
          "base_uri": "https://localhost:8080/",
          "height": 295
        },
        "outputId": "e5009a73-150b-4b37-b250-7c6b62b7385e"
      },
      "source": [
        "p= 0.6\n",
        "q= 0.4\n",
        "tsteps= 100\n",
        "initial=0\n",
        "step=0\n",
        "\n",
        "while(step<tsteps):\n",
        "   plt.plot(step,initial,'.')\n",
        "   if(np.random.random()< p):\n",
        "     initial= initial +1\n",
        "   else:\n",
        "     initial= initial -1\n",
        "   step= step +1\n",
        "   \n",
        "\n",
        "\n",
        "\n",
        "plt.ylabel('Position')\n",
        "plt.xlabel('Jumps')\n",
        "plt.title('Demonstration of Random walk')\n",
        "plt.show()"
      ],
      "execution_count": 20,
      "outputs": [
        {
          "output_type": "display_data",
          "data": {
            "image/png": "[encoded data removed]",
            "text/plain": [
              "<Figure size 432x288 with 1 Axes>"
            ]
          },
          "metadata": {
            "tags": [],
            "needs_background": "light"
          }
        }
      ]
    },
    {
      "cell_type": "code",
      "metadata": {
        "id": "F0GShv1EKrki",
        "colab_type": "code",
        "colab": {
          "base_uri": "https://localhost:8080/",
          "height": 35
        },
        "outputId": "595e42b3-1348-4319-a99c-2dc33e3c4368"
      },
      "source": [
        "from scipy.stats import norm\n",
        "p=0.6\n",
        "q=0.4\n",
        "state=10\n",
        "steps=100\n",
        "if(p+q<1):\n",
        "  r=1-p-q\n",
        "  c=0.5\n",
        "else:\n",
        "  c=1\n",
        "mean=p-q\n",
        "sd=np.sqrt(p+q - (p-q)**2) \n",
        "prob= norm.cdf((state+c- steps*mean)/(sd*np.sqrt(steps)))- norm.cdf((state-c-steps*mean)/(sd*np.sqrt(steps)))\n",
        "print('Probabily of being at state ', state, ' after ', steps ,' steps is: ', prob)"
      ],
      "execution_count": 19,
      "outputs": [
        {
          "output_type": "stream",
          "text": [
            "Probabily of being at state  10  after  100  steps is:  0.04837711536746547\n"
          ],
          "name": "stdout"
        }
      ]
    },
    {
      "cell_type": "markdown",
      "metadata": {
        "id": "9n3XtMKdkHmx",
        "colab_type": "text"
      },
      "source": [
        "# **Results:**"
      ]
    },
    {
      "cell_type": "markdown",
      "metadata": {
        "id": "SxoS_8DB_5Bk",
        "colab_type": "text"
      },
      "source": [
        "We Demostrated 1D random walk assuming p=0.6 & q=0.4\n",
        "We also calculated probabilty of being at a state after n steps using normal cdf."
      ]
    },
    {
      "cell_type": "markdown",
      "metadata": {
        "id": "3D--y0P3UwGP",
        "colab_type": "text"
      },
      "source": [
        "# **Discussion**"
      ]
    },
    {
      "cell_type": "markdown",
      "metadata": {
        "id": "ahSnaIwwU0jK",
        "colab_type": "text"
      },
      "source": [
        "Random walks are used to model many processes in Chemistry, Physics and Biology. For example, they can give us a good understanding of the statistical processes involved in genetic drift, and they describe an ideal chain in polymer physics. They are also important in finance, psychology, ecology and computer science."
      ]
    }
  ]
}