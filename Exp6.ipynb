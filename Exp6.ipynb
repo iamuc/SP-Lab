{
  "nbformat": 4,
  "nbformat_minor": 0,
  "metadata": {
    "colab": {
      "name": "Exp6.ipynb",
      "provenance": [],
      "collapsed_sections": [],
      "authorship_tag": "ABX9TyP0KyHnqyqL4CZRQQH/tuQ8",
      "include_colab_link": true
    },
    "kernelspec": {
      "name": "python3",
      "display_name": "Python 3"
    }
  },
  "cells": [
    {
      "cell_type": "markdown",
      "metadata": {
        "id": "view-in-github",
        "colab_type": "text"
      },
      "source": [
        "<a href=\"https://colab.research.google.com/github/iamuc/SP-Lab/blob/master/Exp6.ipynb\" target=\"_parent\"><img src=\"https://colab.research.google.com/assets/colab-badge.svg\" alt=\"Open In Colab\"/></a>"
      ]
    },
    {
      "cell_type": "markdown",
      "metadata": {
        "id": "Lz8Vw8EAmUYL"
      },
      "source": [
        "Author:\n",
        "*   Udit Chauhan\n",
        "*   2k18/MC/118"
      ]
    },
    {
      "cell_type": "markdown",
      "metadata": {
        "id": "1NtTFbBth6BU"
      },
      "source": [
        "# **Title:**\n",
        "Demonstrating Poisson Process. WAP to find the probability that in case of Poisson process with rate λ, in a length of time t there are exactly k arrivals. <br>\n",
        "For example: Consider a transistor battery  having exponential lifetime with mean as 2 months. In case six such spares batteries are available and if the time to replace a battery is negligible, find the probability that transistor will work for at least one year.<br>\n",
        "In case mean failure time of the successive spare batteries are given by 2/n, then find this probability."
      ]
    },
    {
      "cell_type": "markdown",
      "metadata": {
        "id": "p0IryIDpwLPQ"
      },
      "source": [
        "# **Theoretical Background:**\n",
        "The basic form of Poisson process, often referred to simply as \"the Poisson process\", is a continuous time counting process {N(t), t ≥ 0} that possesses the following properties:\n",
        "N (0) = 0<br>\n",
        "● Independent increments(the numbers of occurrences counted in disjoint intervals are independent of each other)<br>\n",
        "● Stationary increments(the probability distribution of the number of occurrences counted in any time interval only depends on the length of the interval)<br>\n",
        "● The probability distribution of N(t)is a Poisson distribution.<br>\n",
        "● No counted occurrences are simultaneous.<br>\n",
        " Consequences of this definition include<br>\n",
        "● The probability distribution of the waiting time until the next occurrence is an exponential distribution.<br>\n",
        "● The occurrences are distributed uniformly on any interval of time.(Note that N(t),the\n",
        "total number of occurrences, has a Poisson distribution over (0, t], whereas the location of an individual occurrence on t ∈ (a, b] is uniform.)"
      ]
    },
    {
      "cell_type": "code",
      "metadata": {
        "id": "8ZWfXNcLTj4K"
      },
      "source": [
        "import math"
      ],
      "execution_count": null,
      "outputs": []
    },
    {
      "cell_type": "code",
      "metadata": {
        "id": "twyleAQejjVA",
        "outputId": "604db750-c96f-41d7-c227-bf37168164df",
        "colab": {
          "base_uri": "https://localhost:8080/",
          "height": 35
        }
      },
      "source": [
        "def poisson_homo(lambd, t, k):\n",
        "  param =t / lambd\n",
        "  p=0\n",
        "  for i in range(k+1):\n",
        "    temp = math.exp(-param) * math.pow(param, i)\n",
        "    temp /= math.factorial(i)\n",
        "    p=p+ temp\n",
        "  return p\n",
        "\n",
        "print(poisson_homo(2,12,6))\n",
        "\n"
      ],
      "execution_count": null,
      "outputs": [
        {
          "output_type": "stream",
          "text": [
            "0.6063027824125913\n"
          ],
          "name": "stdout"
        }
      ]
    },
    {
      "cell_type": "code",
      "metadata": {
        "id": "rZHLfST-UevX",
        "outputId": "ca0c1142-fbcd-451e-c851-aeba98844d71",
        "colab": {
          "base_uri": "https://localhost:8080/",
          "height": 35
        }
      },
      "source": [
        "def poisson_hetro(lambd,t,k):\n",
        "  param=t/lambd\n",
        "  p=0\n",
        "  for i in range(1, k+1):\n",
        "    temp = math.exp(-param/i) * math.pow(param/i, i)\n",
        "    temp /= math.factorial(i)\n",
        "    p+=temp\n",
        "  return p\n",
        "print(poisson_hetro(2,12,6))"
      ],
      "execution_count": null,
      "outputs": [
        {
          "output_type": "stream",
          "text": [
            "0.473184390033684\n"
          ],
          "name": "stdout"
        }
      ]
    },
    {
      "cell_type": "markdown",
      "metadata": {
        "id": "9n3XtMKdkHmx"
      },
      "source": [
        "# **Results:**"
      ]
    },
    {
      "cell_type": "code",
      "metadata": {
        "id": "8ppmOBG1jxtf",
        "outputId": "8e79b95a-aae6-4590-ae1e-5f3d2c28612c",
        "colab": {
          "base_uri": "https://localhost:8080/",
          "height": 34
        }
      },
      "source": [
        "print(\"We calculated required probabilities as requested\")"
      ],
      "execution_count": null,
      "outputs": [
        {
          "output_type": "stream",
          "text": [
            "We calculated required probabilities as requested\n"
          ],
          "name": "stdout"
        }
      ]
    },
    {
      "cell_type": "markdown",
      "metadata": {
        "id": "eTfwV4U_lTRJ"
      },
      "source": [
        "# **Discussion:**\n",
        "With the help of the above program, we have successfully managed to solve a\n",
        "Poisson process using Python, both for homogenous as well as non homogeneous poisson process.\n",
        "As observed, non homogenous process has uncertainty as can be seen with the help of the low probability.\n"
      ]
    }
  ]
}