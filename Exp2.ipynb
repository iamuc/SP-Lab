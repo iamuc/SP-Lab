{
  "nbformat": 4,
  "nbformat_minor": 0,
  "metadata": {
    "colab": {
      "name": "Exp2.ipynb",
      "provenance": [],
      "authorship_tag": "ABX9TyMFC1dn+dJ56wM3neq23h2P",
      "include_colab_link": true
    },
    "kernelspec": {
      "name": "python3",
      "display_name": "Python 3"
    }
  },
  "cells": [
    {
      "cell_type": "markdown",
      "metadata": {
        "id": "view-in-github",
        "colab_type": "text"
      },
      "source": [
        "<a href=\"https://colab.research.google.com/github/iamuc/SP-Lab/blob/master/Exp2.ipynb\" target=\"_parent\"><img src=\"https://colab.research.google.com/assets/colab-badge.svg\" alt=\"Open In Colab\"/></a>"
      ]
    },
    {
      "cell_type": "markdown",
      "metadata": {
        "id": "Lz8Vw8EAmUYL",
        "colab_type": "text"
      },
      "source": [
        "Author:\n",
        "*   Udit Chauhan\n",
        "*   2k18/MC/118"
      ]
    },
    {
      "cell_type": "markdown",
      "metadata": {
        "id": "1NtTFbBth6BU",
        "colab_type": "text"
      },
      "source": [
        "# **Title:**\n",
        "Demonstrating a Stochastic Process with Discrete Index Set\n",
        "(a) with discrete state space, (b) with continuous state space."
      ]
    },
    {
      "cell_type": "markdown",
      "metadata": {
        "id": "4IpuIcidiIuQ",
        "colab_type": "text"
      },
      "source": [
        "# **Theoretical Background:**\n",
        "In probability theory and related fields, a stochastic or random process is a mathematical object usually defined as a family of random variables. <br>\n",
        "Historically, the random variables were associated with or indexed by a set of numbers, usually viewed as points in time, giving the interpretation of a stochastic process representing numerical values of some system randomly changing over time, such as the growth of a bacterial population, an electrical current fluctuating due to thermal noise, or the movement of a gas molecule. Stochastic processes are widely used as mathematical models of systems and phenomena that appear to vary in a random manner. They have applications in many disciplines such as biology, chemistry, ecology, neuroscience, physics, image processing, signal processing, information theory, computer science, cryptography and telecommunications. <br>\n"
      ]
    },
    {
      "cell_type": "code",
      "metadata": {
        "id": "fKc8Nf5Zh2wl",
        "colab_type": "code",
        "colab": {}
      },
      "source": [
        "import numpy as np\n",
        "import matplotlib .pyplot as plt"
      ],
      "execution_count": null,
      "outputs": []
    },
    {
      "cell_type": "markdown",
      "metadata": {
        "id": "9jTyqESPwkbH",
        "colab_type": "text"
      },
      "source": [
        "*Discrete State Space- Discrete Parameter*"
      ]
    },
    {
      "cell_type": "code",
      "metadata": {
        "id": "twyleAQejjVA",
        "colab_type": "code",
        "colab": {
          "base_uri": "https://localhost:8080/",
          "height": 295
        },
        "outputId": "5623ac3f-e0dd-4e5d-f816-c3dc31f1a15f"
      },
      "source": [
        "#Assume Number of persons visiting a Housing Society on daily basis during the month of January 2020 follows a Normal Distribution\n",
        "x= np.array(list(range(1,32)))\n",
        "y = np.rint(np.random.normal(50,5,31))\n",
        "plt.plot(x,y, 'ro')\n",
        "plt.axis([0,31, 40,60])\n",
        "plt.ylabel('Number of persons visiting a Housing Society')\n",
        "plt.xlabel('Day of month of January 2020')\n",
        "plt.title('Discrete Index Set with discrete state space')\n",
        "plt.yticks(np.array(list(range(40,60))))\n",
        "plt.show()\n"
      ],
      "execution_count": null,
      "outputs": [
        {
          "output_type": "display_data",
          "data": {
            "image/png": "[encoded data removed]",
            "text/plain": [
              "<Figure size 432x288 with 1 Axes>"
            ]
          },
          "metadata": {
            "tags": [],
            "needs_background": "light"
          }
        }
      ]
    },
    {
      "cell_type": "markdown",
      "metadata": {
        "id": "9Zod_kCl99Zp",
        "colab_type": "text"
      },
      "source": [
        "*Continuous State Space- Discrete Parameter*"
      ]
    },
    {
      "cell_type": "code",
      "metadata": {
        "id": "S9SUYb_Y5_8k",
        "colab_type": "code",
        "colab": {
          "base_uri": "https://localhost:8080/",
          "height": 295
        },
        "outputId": "d8043712-e5c0-4d13-c4f7-9584627bade5"
      },
      "source": [
        "# Assume Time duration in seconds of the first fifty enquiries calls received at customer care center follows normal distribution\n",
        "x= np.array(list(range(1,51)))\n",
        "y = np.random.normal(150,45,50)\n",
        "plt.plot(x,y, 'ro')\n",
        "plt.ylabel('Duration in Seconds')\n",
        "plt.xlabel(' nth Enquiry')\n",
        "plt.title('Discrete Index Set with continuous state space')\n",
        "plt.show()\n"
      ],
      "execution_count": null,
      "outputs": [
        {
          "output_type": "display_data",
          "data": {
            "image/png": "[encoded data removed]",
            "text/plain": [
              "<Figure size 432x288 with 1 Axes>"
            ]
          },
          "metadata": {
            "tags": [],
            "needs_background": "light"
          }
        }
      ]
    },
    {
      "cell_type": "markdown",
      "metadata": {
        "id": "9n3XtMKdkHmx",
        "colab_type": "text"
      },
      "source": [
        "# **Results:**"
      ]
    },
    {
      "cell_type": "markdown",
      "metadata": {
        "id": "SxoS_8DB_5Bk",
        "colab_type": "text"
      },
      "source": [
        "We Demostrated Both Stochastic processes assuming both following normal distribution(assuming mean & Standard Deviation). They are both represended in graphical form above."
      ]
    },
    {
      "cell_type": "markdown",
      "metadata": {
        "id": "eTfwV4U_lTRJ",
        "colab_type": "text"
      },
      "source": [
        "# **Discussion:**\n",
        "Stochastic processes are classified on the basis of the underlying index\n",
        "set T and state space S. If T = {0,1,2,..}, or T = {0, ±1, ±2,..}, the\n",
        "stochastic process is said to be discrete parameter process and is usually\n",
        "indicated by {Xn} .The state space is classified as discrete if it is finite or\n",
        "countable and process is classified as continuous if it consists of an\n",
        "interval, finite or infinite of the real line.\n"
      ]
    }
  ]
}